{
  "nbformat": 4,
  "nbformat_minor": 0,
  "metadata": {
    "colab": {
      "provenance": []
    },
    "kernelspec": {
      "name": "python3",
      "display_name": "Python 3"
    },
    "language_info": {
      "name": "python"
    }
  },
  "cells": [
    {
      "cell_type": "markdown",
      "source": [
        "# Theoratical Questions"
      ],
      "metadata": {
        "id": "fOSVnW64Z8Qv"
      }
    },
    {
      "cell_type": "markdown",
      "source": [
        "1. What is statistics, and why is it important?\n",
        "- Statistics is the branch of mathematics that deals with collecting, organizing, analyzing, and interpreting data.\n",
        "- It helps in making informed decisions based on data rather than assumptions.\n",
        "- Statistics is widely used in various fields like business, healthcare, engineering, and social sciences to identify trends, test hypotheses, and make predictions.\n",
        "\n",
        "2. What are the two main types of statistics?\n",
        "- Descriptive and inferential are the two categories of statistics.\n",
        "- Descriptive statistics are employed to summarise and classify data in order to present a view using measurements such as mean, median, mode, and standard deviation.\n",
        "- Inferential statistics are used for drawing conclusions or predicting a bigger group from the information of the samples, normally coupled with hypothesis tests and confidence intervals.\n",
        "\n",
        "3. What are descriptive statistics?\n",
        "- Descriptive statistics are concerned with summarizing and describing data in a meaningful manner.\n",
        "- They consist of measures of central tendency \"mean, median, mode\", measures of dispersion \"range, variance, standard deviation\", and graphical displays such as histograms and pie charts.\n",
        "- Descriptive statistics aid in identifying the overall pattern of the data without drawing conclusions beyond the dataset available.\n",
        "\n",
        "4. What is inferential statistics?\n",
        "- Inferential statistics enables us to predict or make a generalization concerning a population based on sample data.\n",
        "- Inferential statistics applies probability theory, hypothesis testing, and estimation methods such as confidence intervals to make inferences.\n",
        "- Inferential statistics finds application in scientific studies, business forecasting, and medical research when it is impossible to obtain data from the population.\n",
        "\n",
        "5. What is sampling in statistics?\n",
        "- Sampling refers to selecting a smaller set of individuals or observations from the entire population and analyzing them and drawing conclusions based on that.\n",
        "- It is adopted when analyzing an entire population proves to be expensive or time-consuming.\n",
        "- Appropriate sampling methods are adopted so that the sample adopted is a representative sample of the entire population with less bias involved in statistical analysis.\n",
        "\n",
        "6. What are the different types of sampling methods?\n",
        "- There are a number of different sampling methods, including random sampling, systematic sampling, stratified sampling, cluster sampling, and convenience sampling.\n",
        "- Random sampling maximizes the likelihood that each member of the population has an equal opportunity of being chosen, eliminating bias.\n",
        "- Other sampling methods, such as stratified and cluster sampling, ensure that various subgroups are represented proportionately in the sample.\n",
        "\n",
        "7. What is the difference between random and non-random sampling?\n",
        "- Random sampling allows each member of the population an equal chance of being selected, thereby reducing bias and enhancing the reliability of statistical findings.\n",
        "- Non-random sampling fails to provide every individual with an equal opportunity, usually resulting in biased results.\n",
        "- Whereas random sampling would be the desired option for scientific research, non-random techniques such as convenience sampling are occasionally employed for rapid, exploratory research.\n",
        "\n",
        "8. Define and give examples of qualitative and quantitative data.\n",
        "- Qualitative data is non-numerical data that captures details, such as colors, names, or moods.\n",
        "- Quantitative data is numerical information that can be measured or tallied.\n",
        "- Qualitative and quantitative data are both necessary in statistics, with the former utilized in categorical analysis while the latter for numerical calculations.\n",
        "\n",
        "9. What are the different types of data in statistics?\n",
        "- In statistics, data are categorized into four broad categories: nominal, ordinal, interval, and ratio.\n",
        "- Nominal and ordinal data are qualitative in nature, with nominal without order and ordinal with an meaningful order.\n",
        "- Interval and ratio data are quantitative in nature, with interval without a true zero and ratio with a true zero.\n",
        "\n",
        "10. Explain nominal, ordinal, interval, and ratio levels of measurement.\n",
        "- Nominal data are categories without a defined order, for example, gender or car models.\n",
        "- Ordinal data have a significant order but non-equal intervals, for instance, ranking in a race \"1st, 2nd, 3rd\".\n",
        "- Interval data possess ordered values with equal spacing but without a true zero, for example, temperature in Celsius.\n",
        "- Ratio data possess equal intervals and a true zero, for instance, weight or age.\n",
        "\n",
        "11. What is the measure of central tendency?\n",
        "- A measure of central tendency is a statistical value representing the middle of a dataset.\n",
        "- It describes a dataset by summarizing it in one value that best represents the overall distribution.\n",
        "- The three most common measures of central tendency are the mean, median, and mode, which are each useful in relation to the nature of the data and its distribution.\n",
        "\n",
        "12. Define mean, median, and mode.\n",
        "- Mean is the average of all the values in a dataset, found by summing all the values and dividing by their total number.\n",
        "- Median is the middle value in a set of data ordered from lowest to highest, which comes in handy if data contains outliers.\n",
        "- Mode is the most frequent value in a dataset and usually used for categoric data.\n",
        "\n",
        "13. What is the significance of the measure of central tendency?\n",
        "- Measures of central tendency provide a quick summary of a dataset by identifying a central or typical value.\n",
        "- They help in comparing different datasets and making decisions based on data trends.\n",
        "- Choosing the right measure depends on the nature of the data, as mean is sensitive to outliers while median and mode are more robust.\n",
        "\n",
        "14. What is variance, and how is it calculated?\n",
        "- Variance is a measure of how far data points are from the mean, and it measures the spread of the data set.\n",
        "- Variance is computed by averaging the squared differences between each data point and the mean.\n",
        "- High variance implies data points are more dispersed, and low variance implies data points are closer to the mean.\n",
        "\n",
        "15. What is standard deviation, and why is it important?\n",
        "- Standard deviation is the square root of variance and is the average deviation of data points from the mean.\n",
        "- It is crucial since it offers a direct measure of data dispersion and is less complicated to comprehend than variance.\n",
        "- Low standard deviation implies data points close to the mean, whereas a high standard deviation implies more variability.\n",
        "\n",
        "16. Define and explain the term range in statistics.\n",
        "- The range is the difference between the highest and lowest values in a dataset.\n",
        "- It provides a simple measure of data dispersion but does not account for how values are distributed.\n",
        "- While easy to calculate, it may be misleading if the dataset contains extreme outliers.\n",
        "\n",
        "17. What is the difference between variance and standard deviation?\n",
        "- Variance is a measure of average squared difference from the mean, and standard deviation is a square root of variance.\n",
        "- Standard deviation is more frequently used because it is of the same unit as the data and thus easier to interpret.\n",
        "- Both of these are necessary in statistics for interpretation of the spread in data and determination of variability.\n",
        "\n",
        "18. What is skewness in a dataset?\n",
        "- Skewness is the measure of the asymmetry of a data distribution.\n",
        "- A symmetric dataset has no skewness, and positive skewness implies that most of the values are clustered on the left with a longer right tail.\n",
        "- Negative skewness implies that the majority of the values are on the right with a longer left tail.\n",
        "\n",
        "19. What does it mean if a dataset is positively or negatively skewed?\n",
        "- A positively skewed distribution has a longer right tail, that is, higher values are more dispersed.\n",
        "- A negatively skewed distribution has a longer left tail, that is, lower values are more dispersed.\n",
        "- Skewness will influence the selection of central tendency measure since the mean can be deceptive in skewed distributions.\n",
        "\n",
        "20. Define and explain kurtosis.\n",
        "- Kurtosis indicates the \"tailedness\" of a distribution and how much extreme values affect the dataset.\n",
        "- A normal distribution has moderate kurtosis, whereas high kurtosis implies more outliers and more extreme values.\n",
        "- Low kurtosis means fewer outliers and a thinner distribution.\n",
        "\n",
        "21. What is the purpose of covariance?\n",
        "- Covariance quantifies the association between two variables by observing how they move together.\n",
        "- If the variables go up or down together, this is indicated by a positive covariance, whereas one goes up when the other goes down, this is reflected in a negative covariance.\n",
        "- Covariance does not, however, quantify the association strength, which makes correlation a preferable measure to use for comparison.\n",
        "\n",
        "22. What does correlation measure in statistics?\n",
        "- Correlation measures the strength and direction of a relationship between two variables.\n",
        "- It varies from -1 to +1, while 0 shows no correlation.\n",
        "- Correlation is standardized, unlike covariance, and is easier to interpret between different datasets.\n",
        "\n",
        "23. What is the difference between covariance and correlation?\n",
        "- Covariance indicates the direction of the two variables' relationship—whether both rise or fall, but fails to standardize the magnitude of the relationship.\n",
        "- Correlation does the same for covariance, normalizing it from -1 to 1 and rendering the relationship strength and direction more interpretable.\n",
        "- Covariance is unbounded and unit-dependent in values compared to correlation's unit-free scale that enables us to compare from one dataset to another.\n",
        "\n",
        "24. What are some real-world applications of statistics?\n",
        "- In medicine, statistics is applied for disease forecasting, testing drug efficacy, and analyzing patient information.\n",
        "- In finance and business, it aids in market analysis, risk evaluation, and customer trend-based decision-making.\n",
        "- Applications are also found in engineering, sports, social sciences, and AI/ML."
      ],
      "metadata": {
        "id": "bZfQtEG5PHZn"
      }
    },
    {
      "cell_type": "markdown",
      "source": [
        "# Practical"
      ],
      "metadata": {
        "id": "y5b6hDejUltF"
      }
    },
    {
      "cell_type": "code",
      "source": [
        "# 1. How do you calculate the mean, median, and mode of a dataset?\n",
        "\n",
        "import numpy as np\n",
        "import statistics\n",
        "data = np.array([10, 20, 20, 30, 40, 50, 60])\n",
        "print(\"Mean:\", np.mean(data))\n",
        "print(\"Median:\", np.median(data))\n",
        "print(\"Mode:\", statistics.mode(data))"
      ],
      "metadata": {
        "colab": {
          "base_uri": "https://localhost:8080/"
        },
        "id": "fDocyNGQUlMk",
        "outputId": "247fb6ed-a958-4b67-a028-db1c529c5da4"
      },
      "execution_count": 2,
      "outputs": [
        {
          "output_type": "stream",
          "name": "stdout",
          "text": [
            "Mean: 32.857142857142854\n",
            "Median: 30.0\n",
            "Mode: 20\n"
          ]
        }
      ]
    },
    {
      "cell_type": "code",
      "source": [
        "# 2. Write a Python program to compute the variance and standard deviation of a dataset.\n",
        "\n",
        "import numpy as np\n",
        "data = np.array([10, 20, 30, 40, 50])\n",
        "print(\"Variance:\", np.var(data, ddof=1))\n",
        "print(\"Standard Deviation:\", np.std(data, ddof=1))"
      ],
      "metadata": {
        "colab": {
          "base_uri": "https://localhost:8080/"
        },
        "id": "UmIRlow4YRli",
        "outputId": "42fc6409-1308-4743-b0b3-4289693c4f7b"
      },
      "execution_count": 3,
      "outputs": [
        {
          "output_type": "stream",
          "name": "stdout",
          "text": [
            "Variance: 250.0\n",
            "Standard Deviation: 15.811388300841896\n"
          ]
        }
      ]
    },
    {
      "cell_type": "code",
      "source": [
        "# 3. Create a dataset and classify it into nominal, ordinal, interval, and ratio types.\n",
        "\n",
        "nominal = ['Red', 'Blue', 'Green']\n",
        "ordinal = ['Low', 'Medium', 'High']\n",
        "interval = [-10, 0, 10, 20]\n",
        "ratio = [1.5, 3.0, 4.5, 6.0]\n",
        "print(\"Nominal:\", nominal)\n",
        "print(\"Ordinal:\", ordinal)\n",
        "print(\"Interval:\", interval)\n",
        "print(\"Ratio:\", ratio)"
      ],
      "metadata": {
        "colab": {
          "base_uri": "https://localhost:8080/"
        },
        "id": "oBJ5b5VqYPJc",
        "outputId": "b13d09b5-5edb-4b82-e437-28ab5e84a623"
      },
      "execution_count": 4,
      "outputs": [
        {
          "output_type": "stream",
          "name": "stdout",
          "text": [
            "Nominal: ['Red', 'Blue', 'Green']\n",
            "Ordinal: ['Low', 'Medium', 'High']\n",
            "Interval: [-10, 0, 10, 20]\n",
            "Ratio: [1.5, 3.0, 4.5, 6.0]\n"
          ]
        }
      ]
    },
    {
      "cell_type": "code",
      "source": [
        "# 4.  Implement sampling techniques like random sampling and stratified sampling.\n",
        "\n",
        "import numpy as np\n",
        "from sklearn.model_selection import train_test_split\n",
        "data = np.arange(1, 101)\n",
        "random_sample = np.random.choice(data, 10, replace=False)\n",
        "print(\"Random Sample:\", random_sample)\n",
        "labels = np.random.choice([0, 1], size=100)\n",
        "train, test = train_test_split(data, stratify=labels, test_size=0.2)\n",
        "print(\"Stratified Sample:\", test)"
      ],
      "metadata": {
        "colab": {
          "base_uri": "https://localhost:8080/"
        },
        "id": "NaX_PotjYNmR",
        "outputId": "ce310765-6b76-4e6a-d205-87670d2c9b7d"
      },
      "execution_count": 6,
      "outputs": [
        {
          "output_type": "stream",
          "name": "stdout",
          "text": [
            "Random Sample: [74 92 39 61 79 11 90 29 60 72]\n",
            "Stratified Sample: [80 49 14  9 59 12 82  2 17 98 79 84 24 65 75  3 37 96 62 54]\n"
          ]
        }
      ]
    },
    {
      "cell_type": "code",
      "source": [
        "# 5. Write a Python function to calculate the range of a dataset.\n",
        "\n",
        "def data_range(data):\n",
        "    return np.max(data) - np.min(data)\n",
        "data = np.array([5, 15, 25, 35, 45])\n",
        "print(\"Range:\", data_range(data))"
      ],
      "metadata": {
        "colab": {
          "base_uri": "https://localhost:8080/"
        },
        "id": "XISarEvQYLJq",
        "outputId": "dc0daada-ab79-4025-fe56-2da45d2c221b"
      },
      "execution_count": 7,
      "outputs": [
        {
          "output_type": "stream",
          "name": "stdout",
          "text": [
            "Range: 40\n"
          ]
        }
      ]
    },
    {
      "cell_type": "code",
      "source": [
        "# 6.  Create a dataset and plot its histogram to visualize skewness.\n",
        "\n",
        "import matplotlib.pyplot as plt\n",
        "data = np.random.normal(50, 15, 1000)\n",
        "plt.hist(data, bins=30, edgecolor='black')\n",
        "plt.show()"
      ],
      "metadata": {
        "colab": {
          "base_uri": "https://localhost:8080/",
          "height": 430
        },
        "id": "cnH9DHUkYJ22",
        "outputId": "7f2cd966-108d-4473-d69f-37ee61e1da8b"
      },
      "execution_count": 8,
      "outputs": [
        {
          "output_type": "display_data",
          "data": {
            "text/plain": [
              "<Figure size 640x480 with 1 Axes>"
            ],
            "image/png": "[encoded data removed]"
          },
          "metadata": {}
        }
      ]
    },
    {
      "cell_type": "code",
      "source": [
        "# 7. Calculate skewness and kurtosis of a dataset using Python libraries.\n",
        "\n",
        "from scipy.stats import skew, kurtosis\n",
        "data = np.random.normal(0, 1, 1000)\n",
        "print(\"Skewness:\", skew(data))\n",
        "print(\"Kurtosis:\", kurtosis(data))"
      ],
      "metadata": {
        "colab": {
          "base_uri": "https://localhost:8080/"
        },
        "id": "O1mtM0YPYH5y",
        "outputId": "035b6f7a-e86a-4b26-9a11-979adfc4717a"
      },
      "execution_count": 10,
      "outputs": [
        {
          "output_type": "stream",
          "name": "stdout",
          "text": [
            "Skewness: 0.00345120903324157\n",
            "Kurtosis: -0.014743187142226777\n"
          ]
        }
      ]
    },
    {
      "cell_type": "code",
      "source": [
        "# 8. Generate a dataset and demonstrate positive and negative skewness.\n",
        "\n",
        "data_pos = np.random.exponential(scale=2, size=1000)\n",
        "data_neg = -np.random.exponential(scale=2, size=1000)\n",
        "plt.hist(data_pos, bins=30, alpha=0.5, label='Positive Skew')\n",
        "plt.hist(data_neg, bins=30, alpha=0.5, label='Negative Skew')\n",
        "plt.legend()\n",
        "plt.show()"
      ],
      "metadata": {
        "colab": {
          "base_uri": "https://localhost:8080/",
          "height": 430
        },
        "id": "IjDR5YCKYFf2",
        "outputId": "02efd28d-54f6-43b4-e735-4cd881cc68e2"
      },
      "execution_count": 11,
      "outputs": [
        {
          "output_type": "display_data",
          "data": {
            "text/plain": [
              "<Figure size 640x480 with 1 Axes>"
            ],
            "image/png": "[encoded data removed]"
          },
          "metadata": {}
        }
      ]
    },
    {
      "cell_type": "code",
      "source": [
        "# 9. Write a Python script to calculate covariance between two datasets.\n",
        "\n",
        "import numpy as np\n",
        "data1 = np.array([1, 2, 3, 4, 5])\n",
        "data2 = np.array([2, 4, 6, 8, 10])\n",
        "cov_matrix = np.cov(data1, data2)\n",
        "print(\"Covariance:\", cov_matrix[0, 1])"
      ],
      "metadata": {
        "colab": {
          "base_uri": "https://localhost:8080/"
        },
        "id": "BTlHYQQrYD4d",
        "outputId": "ccb41e2a-ccb7-482f-b756-9d9404c2279f"
      },
      "execution_count": 12,
      "outputs": [
        {
          "output_type": "stream",
          "name": "stdout",
          "text": [
            "Covariance: 5.0\n"
          ]
        }
      ]
    },
    {
      "cell_type": "code",
      "source": [
        "# 10. Write a Python script to calculate the correlation coefficient between two datasets.\n",
        "\n",
        "import numpy as np\n",
        "data1 = np.array([10, 20, 30, 40, 50])\n",
        "data2 = np.array([5, 15, 25, 35, 45])\n",
        "print(\"Correlation Coefficient:\", np.corrcoef(data1, data2)[0, 1])"
      ],
      "metadata": {
        "colab": {
          "base_uri": "https://localhost:8080/"
        },
        "id": "SH-iv2F_YCTB",
        "outputId": "902e3f97-1d95-4f69-fa47-f1946d7ed859"
      },
      "execution_count": 13,
      "outputs": [
        {
          "output_type": "stream",
          "name": "stdout",
          "text": [
            "Correlation Coefficient: 1.0\n"
          ]
        }
      ]
    },
    {
      "cell_type": "code",
      "source": [
        "# 11. Create a scatter plot to visualize the relationship between two variables.\n",
        "\n",
        "import matplotlib.pyplot as plt\n",
        "data_x = np.random.rand(100)\n",
        "data_y = 2 * data_x + np.random.rand(100) * 0.1\n",
        "plt.scatter(data_x, data_y)\n",
        "plt.show()"
      ],
      "metadata": {
        "colab": {
          "base_uri": "https://localhost:8080/",
          "height": 430
        },
        "id": "gq-U3__HYA1i",
        "outputId": "f4126deb-ce51-434d-ef5b-bced888c284c"
      },
      "execution_count": 14,
      "outputs": [
        {
          "output_type": "display_data",
          "data": {
            "text/plain": [
              "<Figure size 640x480 with 1 Axes>"
            ],
            "image/png": "[encoded data removed]"
          },
          "metadata": {}
        }
      ]
    },
    {
      "cell_type": "code",
      "source": [
        "# 12. Implement and compare simple random sampling and systematic sampling.\n",
        "\n",
        "import numpy as np\n",
        "data = np.arange(1, 101)\n",
        "simple_random_sample = np.random.choice(data, 10, replace=False)\n",
        "systematic_sample = data[::10]\n",
        "print(\"Simple Random Sample:\", simple_random_sample)\n",
        "print(\"Systematic Sample:\", systematic_sample)"
      ],
      "metadata": {
        "colab": {
          "base_uri": "https://localhost:8080/"
        },
        "id": "vclgHeW8X-F3",
        "outputId": "47f4db15-d0a3-498a-93a3-128183a49ee7"
      },
      "execution_count": 15,
      "outputs": [
        {
          "output_type": "stream",
          "name": "stdout",
          "text": [
            "Simple Random Sample: [20 18 99 92 90 80 52 62 59 47]\n",
            "Systematic Sample: [ 1 11 21 31 41 51 61 71 81 91]\n"
          ]
        }
      ]
    },
    {
      "cell_type": "code",
      "source": [
        "# 13. Calculate the mean, median, and mode of grouped data.\n",
        "\n",
        "import pandas as pd\n",
        "import numpy as np\n",
        "df = pd.DataFrame({'Range': ['0-10', '10-20', '20-30'], 'F': [5, 15, 10]})\n",
        "df[['L', 'U']] = df['Range'].str.split('-').apply(lambda x: pd.Series([int(x[0]), int(x[1])]))\n",
        "df['M'] = df[['L', 'U']].mean(axis=1)\n",
        "mean = np.average(df['M'], weights=df['F'])\n",
        "N2, cf = df['F'].sum() / 2, df['F'].cumsum()\n",
        "m_class = df.loc[cf >= N2].iloc[0]\n",
        "median = m_class['L'] + ((N2 - cf.shift(fill_value=0).iloc[m_class.name]) / m_class['F']) * (m_class['U'] - m_class['L'])\n",
        "m_class = df.loc[df['F'].idxmax()]\n",
        "f0, f1, f2 = df['F'].shift(1, fill_value=0).iloc[m_class.name], m_class['F'], df['F'].shift(-1, fill_value=0).iloc[m_class.name]\n",
        "mode = m_class['L'] + ((f1 - f0) / (2 * f1 - f0 - f2)) * (m_class['U'] - m_class['L'])\n",
        "print(f\"Mean: {mean:.2f}, Median: {median:.2f}, Mode: {mode:.2f}\")"
      ],
      "metadata": {
        "colab": {
          "base_uri": "https://localhost:8080/"
        },
        "id": "XjcCP8POX8bM",
        "outputId": "1892196d-8082-4708-bd8c-2f81c8343650"
      },
      "execution_count": 19,
      "outputs": [
        {
          "output_type": "stream",
          "name": "stdout",
          "text": [
            "Mean: 16.67, Median: 16.67, Mode: 16.67\n"
          ]
        }
      ]
    },
    {
      "cell_type": "code",
      "source": [
        "# 14. Simulate data using Python and calculate its central tendency and dispersion.\n",
        "\n",
        "import numpy as np\n",
        "data = np.random.normal(50, 10, 1000)\n",
        "print(\"Mean:\", np.mean(data))\n",
        "print(\"Std Dev:\", np.std(data))"
      ],
      "metadata": {
        "colab": {
          "base_uri": "https://localhost:8080/"
        },
        "id": "Vt1HtR2yX63W",
        "outputId": "4cc9fa99-ff2d-4d48-e128-43791f96793a"
      },
      "execution_count": 20,
      "outputs": [
        {
          "output_type": "stream",
          "name": "stdout",
          "text": [
            "Mean: 49.69370827021\n",
            "Std Dev: 9.681726980854256\n"
          ]
        }
      ]
    },
    {
      "cell_type": "code",
      "source": [
        "# 15. Use NumPy or pandas to summarize a dataset’s descriptive statistics.\n",
        "\n",
        "import pandas as pd\n",
        "df = pd.DataFrame({'Values': np.random.randint(1, 100, 50)})\n",
        "print(df.describe())"
      ],
      "metadata": {
        "colab": {
          "base_uri": "https://localhost:8080/"
        },
        "id": "IO2Q3OOhX5fy",
        "outputId": "badf92e4-d468-43af-e614-8db10cadc71c"
      },
      "execution_count": 21,
      "outputs": [
        {
          "output_type": "stream",
          "name": "stdout",
          "text": [
            "          Values\n",
            "count  50.000000\n",
            "mean   54.040000\n",
            "std    28.874083\n",
            "min     1.000000\n",
            "25%    34.000000\n",
            "50%    55.500000\n",
            "75%    79.500000\n",
            "max    99.000000\n"
          ]
        }
      ]
    },
    {
      "cell_type": "code",
      "source": [
        "# 16.  Plot a boxplot to understand the spread and identify outliers.\n",
        "\n",
        "import matplotlib.pyplot as plt\n",
        "import seaborn as sns\n",
        "data = np.random.normal(50, 10, 100)\n",
        "sns.boxplot(data)\n",
        "plt.show()"
      ],
      "metadata": {
        "colab": {
          "base_uri": "https://localhost:8080/",
          "height": 411
        },
        "id": "EJwH4eBUX31_",
        "outputId": "da156f97-193c-4045-e8b7-afa2cc68f50e"
      },
      "execution_count": 22,
      "outputs": [
        {
          "output_type": "display_data",
          "data": {
            "text/plain": [
              "<Figure size 640x480 with 1 Axes>"
            ],
            "image/png": "[encoded data removed]"
          },
          "metadata": {}
        }
      ]
    },
    {
      "cell_type": "code",
      "source": [
        "# 17. Calculate the interquartile range (IQR) of a dataset.\n",
        "\n",
        "data = np.random.normal(50, 10, 100)\n",
        "Q1 = np.percentile(data, 25)\n",
        "Q3 = np.percentile(data, 75)\n",
        "IQR = Q3 - Q1\n",
        "print(\"IQR:\", IQR)"
      ],
      "metadata": {
        "colab": {
          "base_uri": "https://localhost:8080/"
        },
        "id": "3I8vSmu8X1Aa",
        "outputId": "dfd92448-9c42-4069-e3e5-df74172c2c94"
      },
      "execution_count": 23,
      "outputs": [
        {
          "output_type": "stream",
          "name": "stdout",
          "text": [
            "IQR: 10.341392701589882\n"
          ]
        }
      ]
    },
    {
      "cell_type": "code",
      "source": [
        "# 18.  Implement Z-score normalization and explain its significance.\n",
        "\n",
        "def z_score_normalization(data):\n",
        "    return (data - np.mean(data)) / np.std(data)\n",
        "data = np.random.rand(10)\n",
        "print(\"Z-score Normalized Data:\", z_score_normalization(data))"
      ],
      "metadata": {
        "colab": {
          "base_uri": "https://localhost:8080/"
        },
        "id": "6TmykHIHXzbT",
        "outputId": "0ae1448a-e890-4ce0-edb1-e0d3a767bc41"
      },
      "execution_count": 24,
      "outputs": [
        {
          "output_type": "stream",
          "name": "stdout",
          "text": [
            "Z-score Normalized Data: [ 0.99610161 -0.74518019  0.26788302 -1.43870233 -0.79138436  0.06276039\n",
            "  1.08286216 -1.33994489  0.28312808  1.62247651]\n"
          ]
        }
      ]
    },
    {
      "cell_type": "code",
      "source": [
        "# 19. Compare two datasets using their standard deviations.\n",
        "\n",
        "data1 = np.random.normal(50, 5, 1000)\n",
        "data2 = np.random.normal(50, 15, 1000)\n",
        "print(\"Std Dev of Data1:\", np.std(data1))\n",
        "print(\"Std Dev of Data2:\", np.std(data2))"
      ],
      "metadata": {
        "colab": {
          "base_uri": "https://localhost:8080/"
        },
        "id": "9ufc8t5SXvWb",
        "outputId": "4c23c151-c375-4a1f-be1d-f42e83db88ad"
      },
      "execution_count": 25,
      "outputs": [
        {
          "output_type": "stream",
          "name": "stdout",
          "text": [
            "Std Dev of Data1: 4.863044102226774\n",
            "Std Dev of Data2: 14.653616466175835\n"
          ]
        }
      ]
    },
    {
      "cell_type": "code",
      "source": [
        "# 20. Write a Python program to visualize covariance using a heatmap.\n",
        "\n",
        "import seaborn as sns\n",
        "data = np.random.rand(100, 2)\n",
        "df = pd.DataFrame(data, columns=['A', 'B'])\n",
        "sns.heatmap(df.cov(), annot=True)\n",
        "plt.show()"
      ],
      "metadata": {
        "colab": {
          "base_uri": "https://localhost:8080/",
          "height": 430
        },
        "id": "rroV5lBaXr_v",
        "outputId": "d1b42beb-56e9-4d6d-d112-d54dd9fc17e2"
      },
      "execution_count": 26,
      "outputs": [
        {
          "output_type": "display_data",
          "data": {
            "text/plain": [
              "<Figure size 640x480 with 2 Axes>"
            ],
            "image/png": "[encoded data removed]"
          },
          "metadata": {}
        }
      ]
    },
    {
      "cell_type": "code",
      "source": [
        "# 21. Use seaborn to create a correlation matrix for a dataset.\n",
        "\n",
        "sns.heatmap(df.corr(), annot=True, cmap='coolwarm')\n",
        "plt.show()"
      ],
      "metadata": {
        "colab": {
          "base_uri": "https://localhost:8080/",
          "height": 435
        },
        "id": "tVA3pnMhXqhx",
        "outputId": "3d0d458d-4cda-4994-e67d-a6b0b4c5fc50"
      },
      "execution_count": 27,
      "outputs": [
        {
          "output_type": "display_data",
          "data": {
            "text/plain": [
              "<Figure size 640x480 with 2 Axes>"
            ],
            "image/png": "[encoded data removed]"
          },
          "metadata": {}
        }
      ]
    },
    {
      "cell_type": "code",
      "source": [
        "# 22. Generate a dataset and implement both variance and standard deviation computations.\n",
        "\n",
        "data = np.random.rand(100)\n",
        "print(\"Variance:\", np.var(data))\n",
        "print(\"Standard Deviation:\", np.std(data))"
      ],
      "metadata": {
        "colab": {
          "base_uri": "https://localhost:8080/"
        },
        "id": "Yq3dR0Y4XoZk",
        "outputId": "63f74951-21b5-4937-b10f-ba7cf0abdec1"
      },
      "execution_count": 28,
      "outputs": [
        {
          "output_type": "stream",
          "name": "stdout",
          "text": [
            "Variance: 0.08778005980286042\n",
            "Standard Deviation: 0.2962769984370377\n"
          ]
        }
      ]
    },
    {
      "cell_type": "code",
      "source": [
        "# 23. Visualize skewness and kurtosis using Python libraries like matplotlib or seaborn.\n",
        "\n",
        "data = np.random.normal(0, 1, 1000)\n",
        "sns.histplot(data, kde=True)\n",
        "plt.show()"
      ],
      "metadata": {
        "colab": {
          "base_uri": "https://localhost:8080/",
          "height": 430
        },
        "id": "NPUa33LWXk6K",
        "outputId": "c4d930d7-5aef-4d32-a4c7-01bf4a3dac81"
      },
      "execution_count": 29,
      "outputs": [
        {
          "output_type": "display_data",
          "data": {
            "text/plain": [
              "<Figure size 640x480 with 1 Axes>"
            ],
            "image/png": "[encoded data removed]"
          },
          "metadata": {}
        }
      ]
    },
    {
      "cell_type": "code",
      "source": [
        "# 24.  Implement the Pearson and Spearman correlation coefficients for a dataset.\n",
        "\n",
        "from scipy.stats import pearsonr, spearmanr\n",
        "data1 = np.random.rand(100)\n",
        "data2 = np.random.rand(100)\n",
        "print(\"Pearson Correlation:\", pearsonr(data1, data2)[0])\n",
        "print(\"Spearman Correlation:\", spearmanr(data1, data2)[0])"
      ],
      "metadata": {
        "colab": {
          "base_uri": "https://localhost:8080/"
        },
        "id": "mHOW7RObXX0c",
        "outputId": "e1a90564-eefd-480e-95a4-f84f8650ebf7"
      },
      "execution_count": 30,
      "outputs": [
        {
          "output_type": "stream",
          "name": "stdout",
          "text": [
            "Pearson Correlation: 0.08129965351284318\n",
            "Spearman Correlation: 0.07876387638763875\n"
          ]
        }
      ]
    }
  ]
}